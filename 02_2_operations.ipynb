{
 "cells": [
  {
   "cell_type": "markdown",
   "metadata": {},
   "source": [
    "## 2.2 Arithmetic operations"
   ]
  },
  {
   "cell_type": "markdown",
   "metadata": {},
   "source": [
    "This section lists the most common arithmetic operations used in M269.\n",
    "Further operations may be introduced in later chapters, as needed.\n",
    "\n",
    "The mathematical or Python symbols that represent operations are called\n",
    "**operators**, and the values the operator applies to are the **operands**.\n",
    "For example, in 3 + 4, value 3 is the left operand and value 4 is the right\n",
    "operand of the operator +."
   ]
  },
  {
   "cell_type": "markdown",
   "metadata": {},
   "source": [
    "### 2.2.1 On real numbers"
   ]
  },
  {
   "cell_type": "markdown",
   "metadata": {},
   "source": [
    "The most common operations of the real number ADT are\n",
    "**addition**, **subtraction**, **multiplication** and **division**.\n",
    "The corresponding operators are +, −, × and /.\n",
    "(Occasionally we'll write division as $\\frac{x}{y}$.)\n",
    "The corresponding results are called the\n",
    "**sum**, **difference**, **product** and **quotient** of the two operands."
   ]
  },
  {
   "cell_type": "markdown",
   "metadata": {},
   "source": [
    "<div class=\"alert alert-info\">\n",
    "<strong>Info:</strong> You may see in other texts multiplication written as $x \\cdot y$,\n",
    "or even just $xy$, and division written as $x \\div y$.\n",
    "</div>"
   ]
  },
  {
   "cell_type": "markdown",
   "metadata": {},
   "source": [
    "Division isn't defined when the right operand is zero. For example,\n",
    "3 / 0&nbsp;should be the quotient _z_ such that _z_ × 0 = 3\n",
    "because multiplication is the inverse of division.\n",
    "But there's no such _z_: any number multiplied by zero gives zero, not&nbsp;3.\n",
    "\n",
    "The **negation** operation, written −_x_,\n",
    "converts a negative number into a positive one and vice versa.\n",
    "We have −0 = 0 and −(−_x_) = _x_ for any real number _x_.\n",
    "\n",
    "\n",
    "The **maximum** and **minimum** operations compute\n",
    "the largest and smallest of a series of numbers, respectively.\n",
    "Because the operation can take a variable number of operands,\n",
    "it's written in functional notation, with the name of the operation\n",
    "(max or min, in this case) preceding the operands,\n",
    "which are separated by commas and enclosed within parentheses (round brackets).\n",
    "For example, max(3, π, −0.5) = π, and min(3, π, −0.5) = −0.5.\n",
    "\n",
    "There are various ways of rounding a real number to an integer.\n",
    "\n",
    "Rounding | 2.3 | 2.7 | −2.3 | −2.7\n",
    "-|-|-|-|-\n",
    "down  | 2  | 2  | −3  | −3\n",
    "up  |  3 |  3 |  −2 | −2\n",
    "towards zero  | 2  | 2  | −2 | −2\n",
    "to nearest integer  | 2  | 3  | −2  | −3\n",
    "\n",
    "The **floor** operation, written floor(_x_), rounds _x_ down,\n",
    "whereas the **ceiling** operation, written ceiling(_x_), rounds _x_ up.\n",
    "To be more precise, floor(_x_) is the largest integer _n_ such that _n_ ≤ _x_,\n",
    "whereas ceiling(_x_) is the smallest integer _n_ such that _x_ ≤ _n_.\n",
    "\n",
    "Rounding towards zero is also called **truncating**, and written trunc(_x_),\n",
    "because it simply discards the digits after the decimal point,\n",
    "as you can check in the table above.\n",
    "\n",
    "Like me, you were probably taught in school to round real numbers to\n",
    "the nearest integer, and round up numbers like 1.5.\n",
    "This rounding rule is given by floor(_x_ + 0.5). For example,\n",
    "_x_ = 2.3 gets rounded down because floor(2.3 + 0.5) = floor(2.8) = 2,\n",
    "whereas _x_ = 2.5 gets rounded up because floor(2.5 + 0.5) = floor(3.0) = 3.\n",
    "\n",
    "Numbers like 1.5 are equally near to two integers, so always rounding them up\n",
    "may introduce bias over many rounding operations. The so-called\n",
    "bankers' rounding method rounds numbers with decimal part&nbsp;0.5 to\n",
    "the nearest **even** integer, i.e. a multiple of two. With this method,\n",
    "both 1.5 and 2.5 are rounded to 2, whereas 3.5 is rounded to 4.\n",
    "We write this operation as even(_x_), e.g. even(−1.5) = even(−2.5) = −2."
   ]
  },
  {
   "cell_type": "markdown",
   "metadata": {},
   "source": [
    "### 2.2.2 On integers"
   ]
  },
  {
   "cell_type": "markdown",
   "metadata": {},
   "source": [
    "All the above operations are also part of the integer ADT,\n",
    "because every integer is a real number too,\n",
    "although it's a bit pointless to round an integer.\n",
    "\n",
    "Addition, negation and the other operations produce an integer when\n",
    "applied to integers, except for division:\n",
    "dividing two integers may result in a real number, e.g. 2 / 3 isn't an integer.\n",
    "To obtain an integer, we simply round the obtained real number\n",
    "in a way that's suitable for the problem at hand.\n",
    "\n",
    "We will use the **exponentiation** or **power** operation, written $x^y$,\n",
    "only with integer operands, and when **exponent** $y$ isn't negative.\n",
    "In that case, the operation  multiplies the **base** $x$ with itself $y$ times,\n",
    "e.g. −2³ = −2 × −2 × −2 = −8. We define *x*⁰ = 1 for all integers _x_.\n",
    "\n",
    "The **modulo** operation, written _x_ mod _y_, computes the remainder of\n",
    "dividing integer _x_ by integer _y_. The modulo is undefined for _y_ = 0.\n",
    "For example, dividing 5 by 2 results in 2 with a remainder of 1, so 5 mod 2 = 1,\n",
    "whereas dividing 9 by 3 results in 3 without a remainder, so 9 mod 3 = 0.\n",
    "If _x_ mod _y_ = 0 then we say that\n",
    "_x_ is a **multiple** of _y_ (or is **divisible** by _y_) and vice versa\n",
    "_y_ is a **factor** or **divisor** of _x_."
   ]
  },
  {
   "cell_type": "markdown",
   "metadata": {},
   "source": [
    "<div class=\"alert alert-info\">\n",
    "<strong>Info:</strong> MU123 Unit&nbsp;3 Section&nbsp;1 introduces multiples, factors and powers.\n",
    "</div>"
   ]
  },
  {
   "cell_type": "markdown",
   "metadata": {},
   "source": [
    "Unfortunately, for negative operands, there are various definitions of modulo.\n",
    "M269 uses this one: _x_ mod _y_ = _x_ − floor(_x_ / _y_) × _y_.\n",
    "The definition also works for positive operands. Here are some examples:\n",
    "\n",
    "- 5 mod 2 = 5 − floor(5/2) × 2 = 5 − 2×2 = 1\n",
    "- −5 mod 2 = −5 − floor(−5/2) × 2 = −5 − (−3×2) = 1\n",
    "- 5 mod −2 = 5 − floor(5/−2) × −2 = 5 − (−3×−2) = −1"
   ]
  },
  {
   "cell_type": "markdown",
   "metadata": {},
   "source": [
    "<div class=\"alert alert-info\">\n",
    "<strong>Info:</strong> Some definitions of modulo use truncation instead of the floor operation.\n",
    "This leads to different results for negative operands.\n",
    "</div>"
   ]
  },
  {
   "cell_type": "markdown",
   "metadata": {},
   "source": [
    "To correctly solve a problem we must apply the right operations,\n",
    "which may involve making some sensible assumptions about the problem.\n",
    "Here are some exercises about choosing an operation."
   ]
  },
  {
   "cell_type": "markdown",
   "metadata": {},
   "source": [
    "#### Exercise 2.2.1"
   ]
  },
  {
   "cell_type": "markdown",
   "metadata": {},
   "source": [
    "1. A bottling plant puts _m_ pints of milk into bottles of _b_ pints each,\n",
    "   e.g. 1234 pints into 4-pint bottles. Which rounding operation would you use,\n",
    "   after dividing _m_ by _b_, to compute how many bottles are sent to a supermarket?\n",
    "1. A mining company sends _o_ tons of ore for metal extraction in trucks with\n",
    "   a maximum load of _t_ tons, e.g. 1234 tons are sent in 10-ton trucks.\n",
    "   Which rounding operation would you use, after dividing _o_ by _t_,\n",
    "   to compute how many truckloads are sent to the extraction plant?\n",
    "\n",
    "[Hint](../31_Hints/Hints_02_2_01.ipynb)\n",
    "[Answer](../32_Answers/Answers_02_2_01.ipynb)"
   ]
  },
  {
   "cell_type": "markdown",
   "metadata": {},
   "source": [
    "#### Exercise 2.2.2"
   ]
  },
  {
   "cell_type": "markdown",
   "metadata": {},
   "source": [
    "As mentioned earlier, an integer is even if it's a multiple of two,\n",
    "otherwise it's **odd**. For example, 0, 2 and −2 are even, but 1 and −1 are odd.\n",
    "Which operation would you use, and how,\n",
    "to check if a given integer _x_ is even or odd?\n",
    "\n",
    "[Answer](../32_Answers/Answers_02_2_02.ipynb)"
   ]
  },
  {
   "cell_type": "markdown",
   "metadata": {},
   "source": [
    "### 2.2.3 On `int` and `float`"
   ]
  },
  {
   "cell_type": "markdown",
   "metadata": {},
   "source": [
    "The following operations are defined for both integers and floats.\n",
    "\n",
    "Python uses `+`, `-` and `/` for addition, subtraction,\n",
    "negation and division, but the multiplication operator is `*`.\n",
    "The result of division is always a float."
   ]
  },
  {
   "cell_type": "code",
   "execution_count": 1,
   "metadata": {},
   "outputs": [
    {
     "data": {
      "text/plain": [
       "2.0"
      ]
     },
     "execution_count": 1,
     "metadata": {},
     "output_type": "execute_result"
    }
   ],
   "source": [
    "6 / 3"
   ]
  },
  {
   "cell_type": "markdown",
   "metadata": {},
   "source": [
    "For the other operations, if both operands are integers, so is the result; otherwise, it's a float."
   ]
  },
  {
   "cell_type": "code",
   "execution_count": 2,
   "metadata": {},
   "outputs": [
    {
     "data": {
      "text/plain": [
       "5"
      ]
     },
     "execution_count": 1,
     "metadata": {},
     "output_type": "execute_result"
    }
   ],
   "source": [
    "2 + 3"
   ]
  },
  {
   "cell_type": "code",
   "execution_count": 3,
   "metadata": {},
   "outputs": [
    {
     "data": {
      "text/plain": [
       "5.0"
      ]
     },
     "execution_count": 1,
     "metadata": {},
     "output_type": "execute_result"
    }
   ],
   "source": [
    "2.0 + 3"
   ]
  },
  {
   "cell_type": "code",
   "execution_count": 4,
   "metadata": {},
   "outputs": [
    {
     "data": {
      "text/plain": [
       "-6"
      ]
     },
     "execution_count": 1,
     "metadata": {},
     "output_type": "execute_result"
    }
   ],
   "source": [
    "2 * -3"
   ]
  },
  {
   "cell_type": "code",
   "execution_count": 5,
   "metadata": {},
   "outputs": [
    {
     "data": {
      "text/plain": [
       "-6.0"
      ]
     },
     "execution_count": 1,
     "metadata": {},
     "output_type": "execute_result"
    }
   ],
   "source": [
    "2e0 * -3"
   ]
  },
  {
   "cell_type": "markdown",
   "metadata": {},
   "source": [
    "Can you explain the last result?\n",
    "\n",
    "___\n",
    "\n",
    "(Remember that a long thin line is a 'stop reading and think' sign.)\n",
    "\n",
    "As mentioned in the previous section, every literal in scientific notation\n",
    "is a float, even if it represents an integer, so `2e0` (which is 2 × 10⁰ = 2)\n",
    "is the same as `2.0` and the result is a float too.\n",
    "We will use negative exponents in scientific notation.\n",
    "\n",
    "The minimum and maximum operations are written as in mathematics.\n",
    "Here are the earlier examples again."
   ]
  },
  {
   "cell_type": "code",
   "execution_count": 6,
   "metadata": {},
   "outputs": [
    {
     "data": {
      "text/plain": [
       "3.141592653589793"
      ]
     },
     "execution_count": 1,
     "metadata": {},
     "output_type": "execute_result"
    }
   ],
   "source": [
    "import math\n",
    "max(3, math.pi, -0.5)"
   ]
  },
  {
   "cell_type": "code",
   "execution_count": 7,
   "metadata": {},
   "outputs": [
    {
     "data": {
      "text/plain": [
       "-0.5"
      ]
     },
     "execution_count": 1,
     "metadata": {},
     "output_type": "execute_result"
    }
   ],
   "source": [
    "min(3, math.pi, -0.5)"
   ]
  },
  {
   "cell_type": "markdown",
   "metadata": {},
   "source": [
    "We have to import a module in each notebook that uses it,\n",
    "but once a module is imported,\n",
    "it's available for all subsequent code cells in the same notebook."
   ]
  },
  {
   "cell_type": "markdown",
   "metadata": {},
   "source": [
    "### 2.2.4 On `float`"
   ]
  },
  {
   "cell_type": "markdown",
   "metadata": {},
   "source": [
    "We'll apply Python's rounding operations to floats only,\n",
    "although they can be applied to integers too.\n",
    "Bankers' rounding is part of the Python language;\n",
    "the other rounding operations are provided by the `math` module."
   ]
  },
  {
   "cell_type": "code",
   "execution_count": 8,
   "metadata": {},
   "outputs": [
    {
     "data": {
      "text/plain": [
       "2"
      ]
     },
     "execution_count": 1,
     "metadata": {},
     "output_type": "execute_result"
    }
   ],
   "source": [
    "round(1.5)              # round to nearest even integer"
   ]
  },
  {
   "cell_type": "code",
   "execution_count": 9,
   "metadata": {},
   "outputs": [
    {
     "data": {
      "text/plain": [
       "2"
      ]
     },
     "execution_count": 1,
     "metadata": {},
     "output_type": "execute_result"
    }
   ],
   "source": [
    "round(2.5)"
   ]
  },
  {
   "cell_type": "code",
   "execution_count": 10,
   "metadata": {},
   "outputs": [
    {
     "data": {
      "text/plain": [
       "2"
      ]
     },
     "execution_count": 1,
     "metadata": {},
     "output_type": "execute_result"
    }
   ],
   "source": [
    "math.ceil(1.5)          # ceiling operation: round up"
   ]
  },
  {
   "cell_type": "code",
   "execution_count": 11,
   "metadata": {},
   "outputs": [
    {
     "data": {
      "text/plain": [
       "1"
      ]
     },
     "execution_count": 1,
     "metadata": {},
     "output_type": "execute_result"
    }
   ],
   "source": [
    "math.floor(1.5)         # floor operation: round down"
   ]
  },
  {
   "cell_type": "code",
   "execution_count": 12,
   "metadata": {},
   "outputs": [
    {
     "data": {
      "text/plain": [
       "-2"
      ]
     },
     "execution_count": 1,
     "metadata": {},
     "output_type": "execute_result"
    }
   ],
   "source": [
    "math.floor(-1.5)"
   ]
  },
  {
   "cell_type": "code",
   "execution_count": 13,
   "metadata": {},
   "outputs": [
    {
     "data": {
      "text/plain": [
       "-1"
      ]
     },
     "execution_count": 1,
     "metadata": {},
     "output_type": "execute_result"
    }
   ],
   "source": [
    "math.trunc(-1.5)        # truncation: round towards zero"
   ]
  },
  {
   "cell_type": "code",
   "execution_count": 14,
   "metadata": {},
   "outputs": [
    {
     "data": {
      "text/plain": [
       "3"
      ]
     },
     "execution_count": 1,
     "metadata": {},
     "output_type": "execute_result"
    }
   ],
   "source": [
    "math.floor(2.5 + 0.5)   # floor(x + 0.5) rounds .5 always up"
   ]
  },
  {
   "cell_type": "markdown",
   "metadata": {},
   "source": [
    "### 2.2.5 On `int`"
   ]
  },
  {
   "cell_type": "markdown",
   "metadata": {},
   "source": [
    "We'll use the following operations on integers only.\n",
    "\n",
    "Python's **floor division** is equivalent to division followed by rounding down.\n",
    "The operator is two slashes."
   ]
  },
  {
   "cell_type": "code",
   "execution_count": 15,
   "metadata": {},
   "outputs": [
    {
     "data": {
      "text/plain": [
       "-0.6666666666666666"
      ]
     },
     "execution_count": 1,
     "metadata": {},
     "output_type": "execute_result"
    }
   ],
   "source": [
    "2 / -3      # one slash: float division"
   ]
  },
  {
   "cell_type": "code",
   "execution_count": 16,
   "metadata": {},
   "outputs": [
    {
     "data": {
      "text/plain": [
       "-1"
      ]
     },
     "execution_count": 1,
     "metadata": {},
     "output_type": "execute_result"
    }
   ],
   "source": [
    "2 // -3     # two slashes: floor division"
   ]
  },
  {
   "cell_type": "code",
   "execution_count": 17,
   "metadata": {},
   "outputs": [
    {
     "data": {
      "text/plain": [
       "0"
      ]
     },
     "execution_count": 1,
     "metadata": {},
     "output_type": "execute_result"
    }
   ],
   "source": [
    "2 // 3"
   ]
  },
  {
   "cell_type": "markdown",
   "metadata": {},
   "source": [
    "Can you explain the last two results?\n",
    "\n",
    "___\n",
    "\n",
    "We have 2 / −3 = −0.66..., which rounds down to −1,\n",
    "whereas 2 / 3 = 0.66... rounds down to 0."
   ]
  },
  {
   "cell_type": "markdown",
   "metadata": {},
   "source": [
    "<div class=\"alert alert-info\">\n",
    "<strong>Info:</strong> Java has only one division operator,\n",
    "which produces an integer if both operands are integers.\n",
    "Java implements integer division with truncation instead of rounding down,\n",
    "so 2 divided by −3 produces 0.\n",
    "</div>"
   ]
  },
  {
   "cell_type": "markdown",
   "metadata": {},
   "source": [
    "As for the modulo operation,\n",
    "Python and other languages confusingly use the percentage sign as the operator.\n",
    "Here are the earlier examples:"
   ]
  },
  {
   "cell_type": "code",
   "execution_count": 18,
   "metadata": {},
   "outputs": [
    {
     "data": {
      "text/plain": [
       "1"
      ]
     },
     "execution_count": 1,
     "metadata": {},
     "output_type": "execute_result"
    }
   ],
   "source": [
    "5 % 2"
   ]
  },
  {
   "cell_type": "code",
   "execution_count": 19,
   "metadata": {},
   "outputs": [
    {
     "data": {
      "text/plain": [
       "1"
      ]
     },
     "execution_count": 1,
     "metadata": {},
     "output_type": "execute_result"
    }
   ],
   "source": [
    "-5 % 2"
   ]
  },
  {
   "cell_type": "code",
   "execution_count": 20,
   "metadata": {},
   "outputs": [
    {
     "data": {
      "text/plain": [
       "-1"
      ]
     },
     "execution_count": 1,
     "metadata": {},
     "output_type": "execute_result"
    }
   ],
   "source": [
    "5 % -2"
   ]
  },
  {
   "cell_type": "markdown",
   "metadata": {},
   "source": [
    "<div class=\"alert alert-info\">\n",
    "<strong>Info:</strong> Java defines the modulo in terms of truncated division, so\n",
    "−5 mod 2 produces −1.\n",
    "</div>"
   ]
  },
  {
   "cell_type": "markdown",
   "metadata": {},
   "source": [
    "Python's power operator is two asterisks."
   ]
  },
  {
   "cell_type": "code",
   "execution_count": 21,
   "metadata": {},
   "outputs": [
    {
     "data": {
      "text/plain": [
       "-8"
      ]
     },
     "execution_count": 1,
     "metadata": {},
     "output_type": "execute_result"
    }
   ],
   "source": [
    "-2 ** 3"
   ]
  },
  {
   "cell_type": "markdown",
   "metadata": {},
   "source": [
    "### 2.2.6 Mistakes"
   ]
  },
  {
   "cell_type": "markdown",
   "metadata": {},
   "source": [
    "Chapter&nbsp;1&nbsp;showed that some code cells may depend on the execution of earlier\n",
    "code cells. In this notebook, you'll get a name error if you run\n",
    "any of the cells with `ceil`, `floor` and `trunc`\n",
    "without having first executed the earlier cell with `import math`.\n",
    "\n",
    "Division and therefore floor division and the modulo\n",
    "are undefined if the right operand is zero.\n",
    "The interpreter raises an error in such cases."
   ]
  },
  {
   "cell_type": "code",
   "execution_count": 22,
   "metadata": {},
   "outputs": [
    {
     "ename": "ZeroDivisionError",
     "evalue": "integer division or modulo by zero",
     "output_type": "error",
     "traceback": [
      "\u001b[0;31m---------------------------------------------------------------------------\u001b[0m",
      "\u001b[0;31mZeroDivisionError\u001b[0m                         Traceback (most recent call last)",
      "\u001b[0;32m<ipython-input-1-6d6d4c3ef6a5>\u001b[0m in \u001b[0;36m<module>\u001b[0;34m\u001b[0m\n\u001b[0;32m----> 1\u001b[0;31m \u001b[0;36m2\u001b[0m \u001b[0;34m%\u001b[0m \u001b[0;36m0\u001b[0m\u001b[0;34m\u001b[0m\u001b[0;34m\u001b[0m\u001b[0m\n\u001b[0m",
      "\u001b[0;31mZeroDivisionError\u001b[0m: integer division or modulo by zero"
     ]
    }
   ],
   "source": [
    "2 % 0"
   ]
  },
  {
   "cell_type": "markdown",
   "metadata": {},
   "source": [
    "If you want, you can duplicate the above cell and\n",
    "replace the modulo operation by division or floor division.\n",
    "\n",
    "If you leave a space between the slashes of the floor division operator,\n",
    "or the asterisks of the power operator, then the interpreter thinks\n",
    "you forgot an operand between two consecutive divisions or multiplications,\n",
    "and reports a generic **syntax error**."
   ]
  },
  {
   "cell_type": "code",
   "execution_count": 23,
   "metadata": {},
   "outputs": [
    {
     "ename": "SyntaxError",
     "evalue": "invalid syntax (<ipython-input-1-e1edc931c14f>, line 1)",
     "output_type": "error",
     "traceback": [
      "\u001b[0;36m  File \u001b[0;32m\"<ipython-input-1-e1edc931c14f>\"\u001b[0;36m, line \u001b[0;32m1\u001b[0m\n\u001b[0;31m    2 / / 3\u001b[0m\n\u001b[0m        ^\u001b[0m\n\u001b[0;31mSyntaxError\u001b[0m\u001b[0;31m:\u001b[0m invalid syntax\n"
     ]
    }
   ],
   "source": [
    "2 / / 3"
   ]
  },
  {
   "cell_type": "markdown",
   "metadata": {},
   "source": [
    "The little caret (^) points to where the interpreter detected the error.\n",
    "The source of the error is somewhere before that point,\n",
    "sometimes even in an earlier line of code.\n",
    "\n",
    "A common mistake is to think that the minus sign is part of the literal.\n",
    "In fact, it's the negation operator, and this has a subtle side effect."
   ]
  },
  {
   "cell_type": "code",
   "execution_count": 24,
   "metadata": {},
   "outputs": [
    {
     "data": {
      "text/plain": [
       "-1"
      ]
     },
     "execution_count": 1,
     "metadata": {},
     "output_type": "execute_result"
    }
   ],
   "source": [
    "-2 ** 0     # expecting x⁰ = 1 for all x"
   ]
  },
  {
   "cell_type": "markdown",
   "metadata": {},
   "source": [
    "Why isn't the result 1? Do the laws of maths not apply to Python?\n",
    "Read on for the solution to this mild cliffhanger..."
   ]
  },
  {
   "cell_type": "markdown",
   "metadata": {},
   "source": [
    "⟵ [Previous section](02_1_numbers.ipynb) | [Up](02-introduction.ipynb) | [Next section](02_3_expressions.ipynb) ⟶"
   ]
  }
 ],
 "metadata": {
  "kernelspec": {
   "display_name": "Python 3",
   "language": "python",
   "name": "python3"
  },
  "language_info": {
   "codemirror_mode": {
    "name": "ipython",
    "version": 3
   },
   "file_extension": ".py",
   "mimetype": "text/x-python",
   "name": "python",
   "nbconvert_exporter": "python",
   "pygments_lexer": "ipython3",
   "version": "3.8.5"
  }
 },
 "nbformat": 4,
 "nbformat_minor": 4
}
